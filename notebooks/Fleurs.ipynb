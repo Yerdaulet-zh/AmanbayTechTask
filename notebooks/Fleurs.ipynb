{
 "cells": [
  {
   "cell_type": "code",
   "execution_count": 12,
   "id": "4d75b3f2-f969-4d70-8284-7dbd7dc352d6",
   "metadata": {},
   "outputs": [],
   "source": [
    "import os\n",
    "import pandas as pd\n",
    "\n",
    "from datasets import load_dataset"
   ]
  },
  {
   "cell_type": "code",
   "execution_count": 13,
   "id": "d98c4aba-1ee8-40de-b1a2-b67031b84733",
   "metadata": {},
   "outputs": [],
   "source": [
    "dataset = load_dataset(\n",
    "    \"google/fleurs\",\n",
    "    \"en_us\",\n",
    "    split=\"test\",\n",
    "    cache_dir=\"../notebooks/fleurs/\"\n",
    ")"
   ]
  },
  {
   "cell_type": "code",
   "execution_count": 14,
   "id": "f514d2f9-1cbf-4b7f-9c19-9538cc78f24d",
   "metadata": {},
   "outputs": [],
   "source": [
    "ids, absolute_path, audio_path, sample_rate, num_samples, transcription, gender, lang_id, language, lang_group_id = [], [], [], [], [], [], [], [], [], []\n",
    "\n",
    "for i in range(len(dataset)):\n",
    "    sample = dataset[i]\n",
    "    ids.append(sample['id'])\n",
    "    \n",
    "    path = sample['path'].split('/')\n",
    "    prefix = \"/test/\" + path.pop()\n",
    "    path = \"/\" + os.path.join(*path) + prefix\n",
    "    \n",
    "    absolute_path.append(path)\n",
    "    audio_path.append(sample['audio']['path'])\n",
    "    sample_rate.append(sample['audio']['sampling_rate'])\n",
    "    num_samples.append(sample['num_samples'])\n",
    "    transcription.append(sample['transcription'])\n",
    "    gender.append(sample['gender'])\n",
    "    lang_id.append(sample['lang_id'])\n",
    "    language.append(sample['language'])\n",
    "    lang_group_id.append(sample['lang_group_id'])"
   ]
  },
  {
   "cell_type": "code",
   "execution_count": 15,
   "id": "cb3dd22f-1bfa-400d-9065-b9a428ef06e7",
   "metadata": {},
   "outputs": [],
   "source": [
    "df = pd.DataFrame({\n",
    "    \"ID\": ids,\n",
    "    \"absolute_path\": absolute_path,\n",
    "    \"audio_path\": audio_path,\n",
    "    \"num_samples\": num_samples,\n",
    "    \"sample_rate\": sample_rate,\n",
    "    \"transcription\": transcription,\n",
    "    \"gender\": gender,\n",
    "    \"lang_id\": lang_id,\n",
    "    \"language\": language,\n",
    "    \"lang_group_id\": lang_group_id\n",
    "})"
   ]
  },
  {
   "cell_type": "code",
   "execution_count": 16,
   "id": "353b0dfd-765f-42c7-9639-90d0a54f26b6",
   "metadata": {},
   "outputs": [
    {
     "data": {
      "text/html": [
       "<div>\n",
       "<style scoped>\n",
       "    .dataframe tbody tr th:only-of-type {\n",
       "        vertical-align: middle;\n",
       "    }\n",
       "\n",
       "    .dataframe tbody tr th {\n",
       "        vertical-align: top;\n",
       "    }\n",
       "\n",
       "    .dataframe thead th {\n",
       "        text-align: right;\n",
       "    }\n",
       "</style>\n",
       "<table border=\"1\" class=\"dataframe\">\n",
       "  <thead>\n",
       "    <tr style=\"text-align: right;\">\n",
       "      <th></th>\n",
       "      <th>ID</th>\n",
       "      <th>absolute_path</th>\n",
       "      <th>audio_path</th>\n",
       "      <th>num_samples</th>\n",
       "      <th>sample_rate</th>\n",
       "      <th>transcription</th>\n",
       "      <th>gender</th>\n",
       "      <th>lang_id</th>\n",
       "      <th>language</th>\n",
       "      <th>lang_group_id</th>\n",
       "    </tr>\n",
       "  </thead>\n",
       "  <tbody>\n",
       "    <tr>\n",
       "      <th>0</th>\n",
       "      <td>1904</td>\n",
       "      <td>/home/yerdaulet/Documents/AmanbayTechTask/note...</td>\n",
       "      <td>test/1003119935936341070.wav</td>\n",
       "      <td>168960</td>\n",
       "      <td>16000</td>\n",
       "      <td>however due to the slow communication channels...</td>\n",
       "      <td>0</td>\n",
       "      <td>19</td>\n",
       "      <td>English</td>\n",
       "      <td>0</td>\n",
       "    </tr>\n",
       "    <tr>\n",
       "      <th>1</th>\n",
       "      <td>1675</td>\n",
       "      <td>/home/yerdaulet/Documents/AmanbayTechTask/note...</td>\n",
       "      <td>test/10052240106321793346.wav</td>\n",
       "      <td>140160</td>\n",
       "      <td>16000</td>\n",
       "      <td>all nouns alongside the word sie for you alway...</td>\n",
       "      <td>0</td>\n",
       "      <td>19</td>\n",
       "      <td>English</td>\n",
       "      <td>0</td>\n",
       "    </tr>\n",
       "  </tbody>\n",
       "</table>\n",
       "</div>"
      ],
      "text/plain": [
       "     ID                                      absolute_path  \\\n",
       "0  1904  /home/yerdaulet/Documents/AmanbayTechTask/note...   \n",
       "1  1675  /home/yerdaulet/Documents/AmanbayTechTask/note...   \n",
       "\n",
       "                      audio_path  num_samples  sample_rate  \\\n",
       "0   test/1003119935936341070.wav       168960        16000   \n",
       "1  test/10052240106321793346.wav       140160        16000   \n",
       "\n",
       "                                       transcription  gender  lang_id  \\\n",
       "0  however due to the slow communication channels...       0       19   \n",
       "1  all nouns alongside the word sie for you alway...       0       19   \n",
       "\n",
       "  language  lang_group_id  \n",
       "0  English              0  \n",
       "1  English              0  "
      ]
     },
     "execution_count": 16,
     "metadata": {},
     "output_type": "execute_result"
    }
   ],
   "source": [
    "df.head(2)"
   ]
  },
  {
   "cell_type": "code",
   "execution_count": 18,
   "id": "4420efd8-f6e9-432e-bc7e-9fa3bedafecf",
   "metadata": {},
   "outputs": [],
   "source": [
    "# df.to_csv('fleurs_metadata.csv', index=False)"
   ]
  },
  {
   "cell_type": "code",
   "execution_count": null,
   "id": "6b2278c0-b03a-4951-a43c-fd72959ba0ac",
   "metadata": {},
   "outputs": [],
   "source": []
  },
  {
   "cell_type": "code",
   "execution_count": null,
   "id": "a64e1816-2c8a-402e-81e4-f488d8ec314a",
   "metadata": {},
   "outputs": [],
   "source": []
  },
  {
   "cell_type": "code",
   "execution_count": null,
   "id": "56c8b632-7cd0-42c8-b831-834bd0c98cb5",
   "metadata": {},
   "outputs": [],
   "source": []
  },
  {
   "cell_type": "code",
   "execution_count": null,
   "id": "00c4989e-f27d-450c-a371-dea8d7ddb903",
   "metadata": {},
   "outputs": [],
   "source": []
  },
  {
   "cell_type": "code",
   "execution_count": null,
   "id": "290fa6cb-b546-4301-a178-a32f48285ee8",
   "metadata": {},
   "outputs": [],
   "source": []
  }
 ],
 "metadata": {
  "kernelspec": {
   "display_name": "Python 3 (ipykernel)",
   "language": "python",
   "name": "python3"
  },
  "language_info": {
   "codemirror_mode": {
    "name": "ipython",
    "version": 3
   },
   "file_extension": ".py",
   "mimetype": "text/x-python",
   "name": "python",
   "nbconvert_exporter": "python",
   "pygments_lexer": "ipython3",
   "version": "3.12.3"
  }
 },
 "nbformat": 4,
 "nbformat_minor": 5
}
